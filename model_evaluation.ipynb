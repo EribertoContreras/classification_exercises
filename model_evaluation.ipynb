{
 "cells": [
  {
   "cell_type": "markdown",
   "id": "8b3791f7",
   "metadata": {},
   "source": [
    "Given the following confusion matrix, evaluate (by hand) the model's performance.\n",
    "\n",
    "\n",
    "|               | pred dog   | pred cat   |\n",
    "|:------------  |-----------:|-----------:|\n",
    "| actual dog    |         46 |         7  |\n",
    "| actual cat    |         13 |         34 |\n"
   ]
  },
  {
   "cell_type": "markdown",
   "id": "bda0a3e5",
   "metadata": {},
   "source": [
    "- In the context of this problem, what is a false positive?\n",
    "- In the context of this problem, what is a false negative?\n",
    "- How would you describe this model?\n"
   ]
  },
  {
   "cell_type": "markdown",
   "id": "c4f4ae21",
   "metadata": {},
   "source": [
    "What is the positive and negative case?\n",
    "- In the context of this problem, what is a false positive?\n",
    "\n",
    "false negative: predicts that is a cat and is not  /  predicts that is a dog and is not.\n",
    "- In the context of this problem, what is a false positive?  \n",
    "\n",
    "false positive: predicts that it is not cat and is  /  predicts that it is not dog and is"
   ]
  },
  {
   "cell_type": "markdown",
   "id": "8b500784",
   "metadata": {},
   "source": [
    "How would you describe this model?\n"
   ]
  }
 ],
 "metadata": {
  "kernelspec": {
   "display_name": "Python 3 (ipykernel)",
   "language": "python",
   "name": "python3"
  },
  "language_info": {
   "codemirror_mode": {
    "name": "ipython",
    "version": 3
   },
   "file_extension": ".py",
   "mimetype": "text/x-python",
   "name": "python",
   "nbconvert_exporter": "python",
   "pygments_lexer": "ipython3",
   "version": "3.9.7"
  }
 },
 "nbformat": 4,
 "nbformat_minor": 5
}
